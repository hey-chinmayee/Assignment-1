{
 "cells": [
  {
   "cell_type": "markdown",
   "id": "cd2e243d-9722-4701-a618-818175d6b5b3",
   "metadata": {},
   "source": [
    "Q1. Answer:\n",
    "Single-line comments: These comments are used to document a single line of code. They start with a hash symbol (#) and continue until the end of the line.\n",
    "Multi-line comments: These comments can span across multiple lines and are enclosed between triple quotation marks (single or double)."
   ]
  },
  {
   "cell_type": "markdown",
   "id": "ed95f0e1-3ac1-47b7-a287-6ddf15910a34",
   "metadata": {},
   "source": [
    "Q2. Answer:\n",
    "Variables are used to store data or values that can be referenced and manipulated throughout the program."
   ]
  },
  {
   "cell_type": "code",
   "execution_count": 3,
   "id": "46dba143-35cc-4b00-8941-e27b5214612f",
   "metadata": {},
   "outputs": [],
   "source": [
    "# x is assigned the value 10\n",
    "x=10"
   ]
  },
  {
   "cell_type": "code",
   "execution_count": 2,
   "id": "62845cff-e899-4bb3-8397-6ed9b677ca1e",
   "metadata": {},
   "outputs": [
    {
     "data": {
      "text/plain": [
       "10"
      ]
     },
     "execution_count": 2,
     "metadata": {},
     "output_type": "execute_result"
    }
   ],
   "source": [
    "x"
   ]
  },
  {
   "cell_type": "markdown",
   "id": "e5c67e2c-07db-440d-8d71-ba421e297c91",
   "metadata": {},
   "source": [
    "Q3. Answer:\n",
    "you can convert one data type to another using a process called \"type casting.\" Python provides several built-in functions for performing type casting. For eg,"
   ]
  },
  {
   "cell_type": "code",
   "execution_count": 7,
   "id": "81d575f6-26c3-4be8-917d-24ea9f8d4e3d",
   "metadata": {},
   "outputs": [],
   "source": [
    "#Convert the string \"10\" to an interger.\n",
    "num=int(\"10\")"
   ]
  },
  {
   "cell_type": "code",
   "execution_count": 5,
   "id": "f82e0b86-2c82-4dbc-8b68-e0ed395e7854",
   "metadata": {},
   "outputs": [
    {
     "data": {
      "text/plain": [
       "int"
      ]
     },
     "execution_count": 5,
     "metadata": {},
     "output_type": "execute_result"
    }
   ],
   "source": [
    "type(num)"
   ]
  },
  {
   "cell_type": "markdown",
   "id": "946e46f3-9700-4a61-b94a-7dcd595bf8b6",
   "metadata": {},
   "source": [
    "Q4."
   ]
  },
  {
   "cell_type": "code",
   "execution_count": 12,
   "id": "e5ea3cb6-3e63-4496-9ec5-195cc8ef847a",
   "metadata": {},
   "outputs": [
    {
     "name": "stdout",
     "output_type": "stream",
     "text": [
      "HELLO WORLD\n"
     ]
    }
   ],
   "source": [
    "print(\"HELLO WORLD\")"
   ]
  },
  {
   "cell_type": "markdown",
   "id": "44e6dffc-414c-4bf8-a25b-0890c9d2f54a",
   "metadata": {},
   "source": [
    "Q5."
   ]
  },
  {
   "cell_type": "code",
   "execution_count": 17,
   "id": "160c01ee-1a61-4fda-a491-542a1d9422c2",
   "metadata": {},
   "outputs": [
    {
     "name": "stdout",
     "output_type": "stream",
     "text": [
      "[2, 3]\n"
     ]
    }
   ],
   "source": [
    "#list sclicing\n",
    "my_list=[1,2,3,4,5]\n",
    "sub_list= my_list[1:3]\n",
    "print(sub_list)"
   ]
  },
  {
   "cell_type": "markdown",
   "id": "f1acc102-659f-4f64-b7c5-648b065044a2",
   "metadata": {},
   "source": [
    "Q6.\n",
    "In mathematics, a complex number is a number of the form a + bi, where a and b are real numbers, and i is the imaginary unit.\n",
    "In Python, complex numbers are represented using the complex data type. The imaginary part is denoted by a suffix j or J."
   ]
  },
  {
   "cell_type": "code",
   "execution_count": 18,
   "id": "2979bdcd-fda7-4f6f-865b-8b61265685e6",
   "metadata": {},
   "outputs": [
    {
     "name": "stdout",
     "output_type": "stream",
     "text": [
      "(5+7j)\n"
     ]
    }
   ],
   "source": [
    "z= 3+4j\n",
    "x= 2+3j\n",
    "print(z+x)"
   ]
  },
  {
   "cell_type": "markdown",
   "id": "a80e0f1d-846c-4214-8de0-50fef09a52f3",
   "metadata": {},
   "source": [
    "Q7."
   ]
  },
  {
   "cell_type": "code",
   "execution_count": 22,
   "id": "16a7d547-3092-4ae2-991c-323a624dc7d2",
   "metadata": {},
   "outputs": [],
   "source": [
    "age=25"
   ]
  },
  {
   "cell_type": "code",
   "execution_count": 23,
   "id": "9728285f-bdfb-4905-afa2-01989fc219b8",
   "metadata": {},
   "outputs": [
    {
     "data": {
      "text/plain": [
       "int"
      ]
     },
     "execution_count": 23,
     "metadata": {},
     "output_type": "execute_result"
    }
   ],
   "source": [
    "type(age)"
   ]
  },
  {
   "cell_type": "markdown",
   "id": "f0ce56c9-b20f-4e57-93f4-470719498d27",
   "metadata": {},
   "source": [
    "Q8."
   ]
  },
  {
   "cell_type": "code",
   "execution_count": 24,
   "id": "7a5b7950-ec37-4505-a1ba-1c3ee60811c9",
   "metadata": {},
   "outputs": [],
   "source": [
    "price=9.99"
   ]
  },
  {
   "cell_type": "code",
   "execution_count": 25,
   "id": "f92ab819-9cf5-46f4-9d73-44cb86eb8fdb",
   "metadata": {},
   "outputs": [
    {
     "data": {
      "text/plain": [
       "float"
      ]
     },
     "execution_count": 25,
     "metadata": {},
     "output_type": "execute_result"
    }
   ],
   "source": [
    "type(price)"
   ]
  },
  {
   "cell_type": "markdown",
   "id": "02367aee-80c2-4356-a8bf-4dc9727fd916",
   "metadata": {},
   "source": [
    "Q9."
   ]
  },
  {
   "cell_type": "code",
   "execution_count": 32,
   "id": "b9b7d5fb-53f3-43f7-ae6d-c960b8160f09",
   "metadata": {},
   "outputs": [
    {
     "name": "stdout",
     "output_type": "stream",
     "text": [
      "My name is Chinmayee Inamdar\n"
     ]
    }
   ],
   "source": [
    "name = \"Chinmayee Inamdar\"\n",
    "print(f\"My name is {name}\")"
   ]
  },
  {
   "cell_type": "markdown",
   "id": "38caaeea-bc60-4b83-972d-f60d6703b074",
   "metadata": {},
   "source": [
    "Q10."
   ]
  },
  {
   "cell_type": "code",
   "execution_count": 40,
   "id": "e7c7da6e-da19-4d38-9fa1-c37ca951f39b",
   "metadata": {},
   "outputs": [
    {
     "name": "stdout",
     "output_type": "stream",
     "text": [
      "World\n"
     ]
    }
   ],
   "source": [
    "string = \"Hello World\"\n",
    "s = string[6:11]\n",
    "print(s)"
   ]
  },
  {
   "cell_type": "markdown",
   "id": "5501a2c0-4151-4ec1-a088-1e4f88b9489d",
   "metadata": {},
   "source": [
    "Q11."
   ]
  },
  {
   "cell_type": "code",
   "execution_count": 41,
   "id": "8eff9b5c-b0d5-43ae-890a-44222b1523a1",
   "metadata": {},
   "outputs": [],
   "source": [
    "is_student= True"
   ]
  },
  {
   "cell_type": "code",
   "execution_count": 42,
   "id": "350033ee-3165-4acb-964a-da2a84d06473",
   "metadata": {},
   "outputs": [
    {
     "data": {
      "text/plain": [
       "True"
      ]
     },
     "execution_count": 42,
     "metadata": {},
     "output_type": "execute_result"
    }
   ],
   "source": [
    "is_student"
   ]
  }
 ],
 "metadata": {
  "kernelspec": {
   "display_name": "Python 3 (ipykernel)",
   "language": "python",
   "name": "python3"
  },
  "language_info": {
   "codemirror_mode": {
    "name": "ipython",
    "version": 3
   },
   "file_extension": ".py",
   "mimetype": "text/x-python",
   "name": "python",
   "nbconvert_exporter": "python",
   "pygments_lexer": "ipython3",
   "version": "3.10.8"
  }
 },
 "nbformat": 4,
 "nbformat_minor": 5
}
