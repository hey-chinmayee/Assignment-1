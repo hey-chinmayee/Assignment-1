{
 "cells": [
  {
   "cell_type": "code",
   "execution_count": 1,
   "id": "0c3f3a16-66ca-478f-b724-bec7003c1cad",
   "metadata": {},
   "outputs": [
    {
     "name": "stdout",
     "output_type": "stream",
     "text": [
      "hello\n"
     ]
    }
   ],
   "source": [
    "a=\"hello\"\n",
    "print(a)"
   ]
  },
  {
   "cell_type": "code",
   "execution_count": 2,
   "id": "934d2246-d92c-4e3f-9e01-4a5742493932",
   "metadata": {},
   "outputs": [
    {
     "data": {
      "text/plain": [
       "str"
      ]
     },
     "execution_count": 2,
     "metadata": {},
     "output_type": "execute_result"
    }
   ],
   "source": [
    "type(a)"
   ]
  },
  {
   "cell_type": "code",
   "execution_count": 6,
   "id": "0216e3fa-64be-47f1-80a9-f46b1e7117b9",
   "metadata": {},
   "outputs": [],
   "source": [
    "b=[34, 43, 65, 4+5j, True, \"data\"]"
   ]
  },
  {
   "cell_type": "code",
   "execution_count": 7,
   "id": "caea7605-e2b4-4843-8811-10b7a1da8aea",
   "metadata": {},
   "outputs": [
    {
     "data": {
      "text/plain": [
       "[34, 43, 65, (4+5j), True, 'data']"
      ]
     },
     "execution_count": 7,
     "metadata": {},
     "output_type": "execute_result"
    }
   ],
   "source": [
    "b"
   ]
  },
  {
   "cell_type": "code",
   "execution_count": 8,
   "id": "c4ff7267-e127-4277-8b7d-0f250c76e1f6",
   "metadata": {},
   "outputs": [
    {
     "data": {
      "text/plain": [
       "list"
      ]
     },
     "execution_count": 8,
     "metadata": {},
     "output_type": "execute_result"
    }
   ],
   "source": [
    "type(b)"
   ]
  },
  {
   "cell_type": "code",
   "execution_count": 9,
   "id": "38865a02-c143-41f4-83b4-50117bb8a3f4",
   "metadata": {},
   "outputs": [],
   "source": [
    "c=35.64"
   ]
  },
  {
   "cell_type": "code",
   "execution_count": 10,
   "id": "db0cf462-0159-46e6-bcf7-87de0900bdfb",
   "metadata": {},
   "outputs": [
    {
     "data": {
      "text/plain": [
       "float"
      ]
     },
     "execution_count": 10,
     "metadata": {},
     "output_type": "execute_result"
    }
   ],
   "source": [
    "type(c)"
   ]
  },
  {
   "cell_type": "code",
   "execution_count": 11,
   "id": "79c7ec14-1656-4c64-bad0-293c76881046",
   "metadata": {},
   "outputs": [],
   "source": [
    "d=(\"apple\", True, 56, 65, \"pw skills\")"
   ]
  },
  {
   "cell_type": "code",
   "execution_count": 12,
   "id": "5f9924df-e048-4a6c-a342-3470e181de0d",
   "metadata": {},
   "outputs": [
    {
     "data": {
      "text/plain": [
       "('apple', True, 56, 65, 'pw skills')"
      ]
     },
     "execution_count": 12,
     "metadata": {},
     "output_type": "execute_result"
    }
   ],
   "source": [
    "d"
   ]
  },
  {
   "cell_type": "code",
   "execution_count": 13,
   "id": "4b1c9287-3c01-4c43-a237-801938dc3bba",
   "metadata": {},
   "outputs": [
    {
     "data": {
      "text/plain": [
       "tuple"
      ]
     },
     "execution_count": 13,
     "metadata": {},
     "output_type": "execute_result"
    }
   ],
   "source": [
    "type(d)"
   ]
  },
  {
   "cell_type": "code",
   "execution_count": 14,
   "id": "c87986ea-00e6-4e74-aa73-01043ac38e61",
   "metadata": {},
   "outputs": [],
   "source": [
    "var1=\"\""
   ]
  },
  {
   "cell_type": "code",
   "execution_count": 15,
   "id": "6e83edec-a9d8-4efd-a319-f8e9234acd6e",
   "metadata": {},
   "outputs": [
    {
     "data": {
      "text/plain": [
       "str"
      ]
     },
     "execution_count": 15,
     "metadata": {},
     "output_type": "execute_result"
    }
   ],
   "source": [
    "type(var1)"
   ]
  },
  {
   "cell_type": "code",
   "execution_count": 16,
   "id": "974ee41b-1c6c-48c1-a7c9-e2330978b596",
   "metadata": {},
   "outputs": [],
   "source": [
    "var2='[DS,ML,PAYTHON]'"
   ]
  },
  {
   "cell_type": "code",
   "execution_count": 17,
   "id": "59f65fc7-c7e9-4a60-8a43-275b41239fb8",
   "metadata": {},
   "outputs": [
    {
     "data": {
      "text/plain": [
       "str"
      ]
     },
     "execution_count": 17,
     "metadata": {},
     "output_type": "execute_result"
    }
   ],
   "source": [
    "type(var2)"
   ]
  },
  {
   "cell_type": "code",
   "execution_count": 18,
   "id": "5e527868-f9b2-4821-8235-5716fd7eaae4",
   "metadata": {},
   "outputs": [],
   "source": [
    "var3=['DS', 'ML', 'PAYTHON']"
   ]
  },
  {
   "cell_type": "code",
   "execution_count": 19,
   "id": "7ba3571a-3e58-48fc-9db7-8f2fa614ea8b",
   "metadata": {},
   "outputs": [
    {
     "data": {
      "text/plain": [
       "list"
      ]
     },
     "execution_count": 19,
     "metadata": {},
     "output_type": "execute_result"
    }
   ],
   "source": [
    "type(var3)"
   ]
  },
  {
   "cell_type": "code",
   "execution_count": 20,
   "id": "b4d93571-9d00-4e46-b9de-a4731e5dbb2a",
   "metadata": {},
   "outputs": [],
   "source": [
    "var4=1"
   ]
  },
  {
   "cell_type": "code",
   "execution_count": 21,
   "id": "0846cc9a-edc9-428b-8b58-418e2b358024",
   "metadata": {},
   "outputs": [
    {
     "data": {
      "text/plain": [
       "int"
      ]
     },
     "execution_count": 21,
     "metadata": {},
     "output_type": "execute_result"
    }
   ],
   "source": [
    "type(var4)"
   ]
  },
  {
   "cell_type": "code",
   "execution_count": 24,
   "id": "57ad32ab-c4b9-4cfc-b81b-492cfff6d5d1",
   "metadata": {},
   "outputs": [
    {
     "data": {
      "text/plain": [
       "5.0"
      ]
     },
     "execution_count": 24,
     "metadata": {},
     "output_type": "execute_result"
    }
   ],
   "source": [
    "10/2"
   ]
  },
  {
   "cell_type": "code",
   "execution_count": 28,
   "id": "6293cfdd-beb5-4500-a1a5-771c9c63fbe4",
   "metadata": {},
   "outputs": [
    {
     "data": {
      "text/plain": [
       "6"
      ]
     },
     "execution_count": 28,
     "metadata": {},
     "output_type": "execute_result"
    }
   ],
   "source": [
    "30%8"
   ]
  },
  {
   "cell_type": "code",
   "execution_count": 29,
   "id": "5e50cd16-968c-4133-82bd-46f9e402a642",
   "metadata": {},
   "outputs": [
    {
     "data": {
      "text/plain": [
       "2"
      ]
     },
     "execution_count": 29,
     "metadata": {},
     "output_type": "execute_result"
    }
   ],
   "source": [
    "10//5"
   ]
  },
  {
   "cell_type": "code",
   "execution_count": 30,
   "id": "8a1d0d60-9580-46d0-9a92-d03f10914b24",
   "metadata": {},
   "outputs": [
    {
     "data": {
      "text/plain": [
       "25"
      ]
     },
     "execution_count": 30,
     "metadata": {},
     "output_type": "execute_result"
    }
   ],
   "source": [
    "5**2"
   ]
  },
  {
   "cell_type": "code",
   "execution_count": 19,
   "id": "9afae52b-1c5b-435e-b158-e03f3005d13b",
   "metadata": {},
   "outputs": [
    {
     "name": "stdout",
     "output_type": "stream",
     "text": [
      "pw skills <class 'str'>\n",
      "25 <class 'int'>\n",
      "11 <class 'int'>\n",
      "14 <class 'int'>\n",
      "True <class 'bool'>\n",
      "(5+9j) <class 'complex'>\n",
      "False <class 'bool'>\n",
      "songs <class 'str'>\n",
      "85.23 <class 'float'>\n",
      "5 <class 'int'>\n"
     ]
    }
   ],
   "source": [
    "s=[\"pw skills\",25,11,14,True,5+9j,False,\"songs\",85.23,5]\n",
    "for i in s:\n",
    "    print(i, type(i))\n"
   ]
  },
  {
   "cell_type": "code",
   "execution_count": 4,
   "id": "0d43c461-e35e-4680-be20-2fe0b3c5e9cc",
   "metadata": {},
   "outputs": [
    {
     "name": "stdout",
     "output_type": "stream",
     "text": [
      "4.0 is divisible by 8 and can be divided 1 times\n"
     ]
    }
   ],
   "source": [
    "A = 32\n",
    "B = 8\n",
    "\n",
    "count = 0\n",
    "\n",
    "while A % B == 0:\n",
    "    A = A / B\n",
    "    count += 1\n",
    "if count > 0:\n",
    "    print(f\"{A} is divisible by {B} and can be divided {count} times\")\n",
    "else:\n",
    "          print(f\"{A} is not divisible by {B}\")"
   ]
  },
  {
   "cell_type": "code",
   "execution_count": 1,
   "id": "1dcb5bb8-9854-45e9-9397-c3458fe1d805",
   "metadata": {},
   "outputs": [
    {
     "name": "stdout",
     "output_type": "stream",
     "text": [
      "2 is not divisible by 3\n",
      "6 is divisible by 3\n",
      "4 is not divisible by 3\n",
      "8 is not divisible by 3\n",
      "11 is not divisible by 3\n",
      "32 is not divisible by 3\n",
      "54 is divisible by 3\n",
      "87 is divisible by 3\n",
      "79 is not divisible by 3\n",
      "46 is not divisible by 3\n",
      "13 is not divisible by 3\n",
      "25 is not divisible by 3\n",
      "85 is not divisible by 3\n",
      "65 is not divisible by 3\n",
      "45 is divisible by 3\n",
      "75 is divisible by 3\n",
      "31 is not divisible by 3\n",
      "93 is divisible by 3\n",
      "51 is divisible by 3\n",
      "66 is divisible by 3\n",
      "33 is divisible by 3\n",
      "15 is divisible by 3\n",
      "18 is divisible by 3\n",
      "12 is divisible by 3\n",
      "21 is divisible by 3\n"
     ]
    }
   ],
   "source": [
    "numbers=[2,6,4,8,11,32,54,87,79,46,13,25,85,65,45,75,31,93,51,66,33,15,18,12,21]\n",
    "for num in numbers:\n",
    "    if num % 3 == 0:\n",
    "        print(f\"{num} is divisible by 3\")\n",
    "    else:\n",
    "        print(f\"{num} is not divisible by 3\")"
   ]
  },
  {
   "cell_type": "code",
   "execution_count": 3,
   "id": "29ee4491-ef1a-44d2-917f-27efb1d9dac3",
   "metadata": {},
   "outputs": [],
   "source": [
    "m=[5,6,7,'group','class',85.32,6+9j,False]"
   ]
  },
  {
   "cell_type": "code",
   "execution_count": 4,
   "id": "715b255f-6094-4b74-9138-005cb1004a42",
   "metadata": {},
   "outputs": [
    {
     "data": {
      "text/plain": [
       "[5, 6, 7, 'group', 'class', 85.32, (6+9j), False]"
      ]
     },
     "execution_count": 4,
     "metadata": {},
     "output_type": "execute_result"
    }
   ],
   "source": [
    "m"
   ]
  },
  {
   "cell_type": "code",
   "execution_count": 7,
   "id": "01c0f58f-5917-4255-9d33-5441dabc0ad4",
   "metadata": {},
   "outputs": [
    {
     "data": {
      "text/plain": [
       "85.32"
      ]
     },
     "execution_count": 7,
     "metadata": {},
     "output_type": "execute_result"
    }
   ],
   "source": [
    "m[5]"
   ]
  },
  {
   "cell_type": "code",
   "execution_count": 8,
   "id": "cf48dafd-da6b-4230-8c19-60ca42a5021e",
   "metadata": {},
   "outputs": [],
   "source": [
    "m[5]=20"
   ]
  },
  {
   "cell_type": "code",
   "execution_count": 9,
   "id": "da0922b9-96cb-42d7-83d5-160b48e23fc7",
   "metadata": {},
   "outputs": [
    {
     "data": {
      "text/plain": [
       "[5, 6, 7, 'group', 'class', 20, (6+9j), False]"
      ]
     },
     "execution_count": 9,
     "metadata": {},
     "output_type": "execute_result"
    }
   ],
   "source": [
    "m"
   ]
  },
  {
   "cell_type": "code",
   "execution_count": 10,
   "id": "26f47f8b-a17e-4232-8184-81e15df1cfe8",
   "metadata": {},
   "outputs": [],
   "source": [
    "n='pw skills'"
   ]
  },
  {
   "cell_type": "code",
   "execution_count": 11,
   "id": "524422c7-78d7-4895-a53f-860b1ecf19fa",
   "metadata": {},
   "outputs": [
    {
     "data": {
      "text/plain": [
       "'pw skills'"
      ]
     },
     "execution_count": 11,
     "metadata": {},
     "output_type": "execute_result"
    }
   ],
   "source": [
    "n"
   ]
  },
  {
   "cell_type": "code",
   "execution_count": 13,
   "id": "4c6c48de-a28c-4cad-9a26-04f94873bdf5",
   "metadata": {},
   "outputs": [
    {
     "data": {
      "text/plain": [
       "'k'"
      ]
     },
     "execution_count": 13,
     "metadata": {},
     "output_type": "execute_result"
    }
   ],
   "source": [
    "n[4]"
   ]
  },
  {
   "cell_type": "code",
   "execution_count": 15,
   "id": "604af1c8-5c03-47a4-b0fa-251700a6c6e0",
   "metadata": {},
   "outputs": [
    {
     "ename": "NameError",
     "evalue": "name 'c' is not defined",
     "output_type": "error",
     "traceback": [
      "\u001b[0;31m---------------------------------------------------------------------------\u001b[0m",
      "\u001b[0;31mNameError\u001b[0m                                 Traceback (most recent call last)",
      "Cell \u001b[0;32mIn[15], line 1\u001b[0m\n\u001b[0;32m----> 1\u001b[0m n[\u001b[38;5;241m4\u001b[39m]\u001b[38;5;241m=\u001b[39m\u001b[43mc\u001b[49m\n",
      "\u001b[0;31mNameError\u001b[0m: name 'c' is not defined"
     ]
    }
   ],
   "source": [
    "n[4]=c"
   ]
  },
  {
   "cell_type": "markdown",
   "id": "eece04fb-4032-4977-87aa-f71ebab7b217",
   "metadata": {},
   "source": [
    "In Python, data types can be classified as either mutable or immutable. This classification refers to whether the value of an object can be modified after it has been created.\n",
    "An immutable object cannot be modified after it has been created. Any operation that appears to modify the object actually creates a new object with the modified value. Examples of immutable data types in Python include integers, floating-point numbers, booleans, and strings.On the other hand, a mutable object can be modified after it has been created. This means that operations that modify the object will affect the original object directly. Examples of mutable data types in Python include lists, dictionaries, and sets.\n"
   ]
  }
 ],
 "metadata": {
  "kernelspec": {
   "display_name": "Python 3 (ipykernel)",
   "language": "python",
   "name": "python3"
  },
  "language_info": {
   "codemirror_mode": {
    "name": "ipython",
    "version": 3
   },
   "file_extension": ".py",
   "mimetype": "text/x-python",
   "name": "python",
   "nbconvert_exporter": "python",
   "pygments_lexer": "ipython3",
   "version": "3.10.8"
  }
 },
 "nbformat": 4,
 "nbformat_minor": 5
}
